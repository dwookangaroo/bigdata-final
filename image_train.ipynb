{
 "cells": [
  {
   "cell_type": "code",
   "execution_count": 2,
   "id": "910d2436",
   "metadata": {},
   "outputs": [
    {
     "name": "stdout",
     "output_type": "stream",
     "text": [
      "[name: \"/device:CPU:0\"\n",
      "device_type: \"CPU\"\n",
      "memory_limit: 268435456\n",
      "locality {\n",
      "}\n",
      "incarnation: 5690790539971414073\n",
      ", name: \"/device:GPU:0\"\n",
      "device_type: \"GPU\"\n",
      "memory_limit: 4991025152\n",
      "locality {\n",
      "  bus_id: 1\n",
      "  links {\n",
      "  }\n",
      "}\n",
      "incarnation: 6188569656151844230\n",
      "physical_device_desc: \"device: 0, name: NVIDIA GeForce GTX 1660 Ti, pci bus id: 0000:01:00.0, compute capability: 7.5\"\n",
      "]\n"
     ]
    }
   ],
   "source": [
    "from tensorflow.python.client import device_lib\n",
    "print(device_lib.list_local_devices())"
   ]
  },
  {
   "cell_type": "code",
   "execution_count": 3,
   "id": "e07b9b71",
   "metadata": {},
   "outputs": [],
   "source": [
    "import cv2, sys\n",
    "import matplotlib.pyplot as plt\n",
    "import numpy as np\n",
    "import tensorflow as tf\n",
    "import glob\n",
    "import os\n",
    "from tqdm import tqdm\n",
    "import time\n",
    "from PIL import Image, ImageEnhance, ImageChops\n",
    "from tensorflow.keras.preprocessing.image import ImageDataGenerator, array_to_img, img_to_array, load_img\n",
    "from tensorflow.keras.utils import to_categorical"
   ]
  },
  {
   "cell_type": "code",
   "execution_count": 4,
   "id": "2eb01c75",
   "metadata": {},
   "outputs": [],
   "source": [
    "from tensorflow.keras.models import Sequential\n",
    "from tensorflow.keras.layers import Dense, Activation, Dropout, Flatten, Conv2D, MaxPooling2D\n",
    "from tensorflow.keras.preprocessing.image import ImageDataGenerator\n",
    "from tensorflow.keras import optimizers, initializers, regularizers, metrics\n",
    "from tensorflow.keras.models import Sequential, load_model\n",
    "from tensorflow.keras.layers import LeakyReLU\n"
   ]
  },
  {
   "cell_type": "code",
   "execution_count": 5,
   "id": "fbc55a4f",
   "metadata": {},
   "outputs": [],
   "source": [
    "from importlib import reload"
   ]
  },
  {
   "cell_type": "code",
   "execution_count": 6,
   "id": "b510487c",
   "metadata": {},
   "outputs": [],
   "source": [
    "np.random.seed(0)\n",
    "tf.random.set_seed(0)"
   ]
  },
  {
   "cell_type": "code",
   "execution_count": 7,
   "id": "93f6c8cb",
   "metadata": {},
   "outputs": [],
   "source": [
    "b_size=5"
   ]
  },
  {
   "cell_type": "code",
   "execution_count": 8,
   "id": "62aeb55d",
   "metadata": {},
   "outputs": [
    {
     "name": "stdout",
     "output_type": "stream",
     "text": [
      "Found 1096 images belonging to 2 classes.\n"
     ]
    }
   ],
   "source": [
    "train_datagen = ImageDataGenerator(rescale=1./255,\n",
    "                                   rotation_range=20,\n",
    "                                   width_shift_range=0.2,\n",
    "                                   height_shift_range=0.2,\n",
    "                                   shear_range=0.5,\n",
    "                                   zoom_range=0.5,\n",
    "                                   horizontal_flip=True,\n",
    "                                   fill_mode=\"nearest\")\n",
    "train_generator = train_datagen.flow_from_directory('D:/deeplearning_image/train/',target_size=(200,200),\n",
    "                                                    batch_size=b_size, class_mode='categorical')"
   ]
  },
  {
   "cell_type": "code",
   "execution_count": 9,
   "id": "b3522454",
   "metadata": {},
   "outputs": [
    {
     "name": "stdout",
     "output_type": "stream",
     "text": [
      "Found 364 images belonging to 2 classes.\n"
     ]
    }
   ],
   "source": [
    "validation_datagen = ImageDataGenerator(rescale=1./255)\n",
    "validation_generator = validation_datagen.flow_from_directory('D:/deeplearning_image/validation/',target_size=(200,200),\n",
    "                                                    batch_size=b_size, class_mode='categorical')"
   ]
  },
  {
   "cell_type": "code",
   "execution_count": 10,
   "id": "7aa77750",
   "metadata": {},
   "outputs": [
    {
     "name": "stdout",
     "output_type": "stream",
     "text": [
      "Found 366 images belonging to 2 classes.\n"
     ]
    }
   ],
   "source": [
    "test_datagen = ImageDataGenerator(rescale=1./255)\n",
    "test_generator = test_datagen.flow_from_directory('D:/deeplearning_image/test/',target_size=(200,200),\n",
    "                                                    batch_size=b_size, class_mode='categorical')"
   ]
  },
  {
   "cell_type": "code",
   "execution_count": 11,
   "id": "8800a054",
   "metadata": {},
   "outputs": [
    {
     "data": {
      "text/plain": [
       "{'castle': 0, 'general': 1}"
      ]
     },
     "execution_count": 11,
     "metadata": {},
     "output_type": "execute_result"
    }
   ],
   "source": [
    "test_generator.class_indices"
   ]
  },
  {
   "cell_type": "code",
   "execution_count": 12,
   "id": "36ae39d8",
   "metadata": {},
   "outputs": [],
   "source": [
    "model = Sequential()\n",
    "model.add(Conv2D(20, (3, 3), input_shape=(200,200,3)))\n",
    "model.add(Activation(LeakyReLU(alpha=0.01)))\n",
    "model.add(MaxPooling2D(pool_size=(2, 2)))\n",
    "\n",
    "model.add(Conv2D(20, (3, 3)))\n",
    "model.add(Activation(LeakyReLU(alpha=0.01)))\n",
    "model.add(MaxPooling2D(pool_size=(2, 2)))\n",
    "\n",
    "model.add(Conv2D(40, (3, 3)))\n",
    "model.add(Activation(LeakyReLU(alpha=0.01)))\n",
    "model.add(MaxPooling2D(pool_size=(2, 2)))\n",
    "\n",
    "model.add(Flatten())\n",
    "model.add(Dense(40))\n",
    "model.add(Activation(LeakyReLU(alpha=0.01)))\n",
    "model.add(Dropout(0.5))\n",
    "model.add(Dense(2))\n",
    "model.add(Activation('softmax'))"
   ]
  },
  {
   "cell_type": "code",
   "execution_count": 13,
   "id": "9e91e546",
   "metadata": {},
   "outputs": [
    {
     "name": "stdout",
     "output_type": "stream",
     "text": [
      "Model: \"sequential\"\n",
      "_________________________________________________________________\n",
      "Layer (type)                 Output Shape              Param #   \n",
      "=================================================================\n",
      "conv2d (Conv2D)              (None, 198, 198, 20)      560       \n",
      "_________________________________________________________________\n",
      "activation (Activation)      (None, 198, 198, 20)      0         \n",
      "_________________________________________________________________\n",
      "max_pooling2d (MaxPooling2D) (None, 99, 99, 20)        0         \n",
      "_________________________________________________________________\n",
      "conv2d_1 (Conv2D)            (None, 97, 97, 20)        3620      \n",
      "_________________________________________________________________\n",
      "activation_1 (Activation)    (None, 97, 97, 20)        0         \n",
      "_________________________________________________________________\n",
      "max_pooling2d_1 (MaxPooling2 (None, 48, 48, 20)        0         \n",
      "_________________________________________________________________\n",
      "conv2d_2 (Conv2D)            (None, 46, 46, 40)        7240      \n",
      "_________________________________________________________________\n",
      "activation_2 (Activation)    (None, 46, 46, 40)        0         \n",
      "_________________________________________________________________\n",
      "max_pooling2d_2 (MaxPooling2 (None, 23, 23, 40)        0         \n",
      "_________________________________________________________________\n",
      "flatten (Flatten)            (None, 21160)             0         \n",
      "_________________________________________________________________\n",
      "dense (Dense)                (None, 40)                846440    \n",
      "_________________________________________________________________\n",
      "activation_3 (Activation)    (None, 40)                0         \n",
      "_________________________________________________________________\n",
      "dropout (Dropout)            (None, 40)                0         \n",
      "_________________________________________________________________\n",
      "dense_1 (Dense)              (None, 2)                 82        \n",
      "_________________________________________________________________\n",
      "activation_4 (Activation)    (None, 2)                 0         \n",
      "=================================================================\n",
      "Total params: 857,942\n",
      "Trainable params: 857,942\n",
      "Non-trainable params: 0\n",
      "_________________________________________________________________\n"
     ]
    }
   ],
   "source": [
    "model.summary()"
   ]
  },
  {
   "cell_type": "code",
   "execution_count": 14,
   "id": "3067334e",
   "metadata": {},
   "outputs": [],
   "source": [
    "model.compile(loss='categorical_crossentropy',optimizer=optimizers.Adam(learning_rate=0.0002),\\\n",
    "              metrics=['accuracy'])"
   ]
  },
  {
   "cell_type": "code",
   "execution_count": 15,
   "id": "af3091f4",
   "metadata": {},
   "outputs": [],
   "source": [
    "steps_train = len(train_generator)\n",
    "steps_validation = len(validation_generator)\n",
    "setps_test = len(test_generator)"
   ]
  },
  {
   "cell_type": "code",
   "execution_count": 16,
   "id": "18820c5f",
   "metadata": {},
   "outputs": [
    {
     "data": {
      "text/plain": [
       "220"
      ]
     },
     "execution_count": 16,
     "metadata": {},
     "output_type": "execute_result"
    }
   ],
   "source": [
    "steps_train"
   ]
  },
  {
   "cell_type": "code",
   "execution_count": 17,
   "id": "c7033f59",
   "metadata": {},
   "outputs": [
    {
     "data": {
      "text/plain": [
       "74"
      ]
     },
     "execution_count": 17,
     "metadata": {},
     "output_type": "execute_result"
    }
   ],
   "source": [
    "setps_test"
   ]
  },
  {
   "cell_type": "code",
   "execution_count": 18,
   "id": "8f50dcc6",
   "metadata": {},
   "outputs": [
    {
     "data": {
      "text/plain": [
       "73"
      ]
     },
     "execution_count": 18,
     "metadata": {},
     "output_type": "execute_result"
    }
   ],
   "source": [
    "steps_validation"
   ]
  },
  {
   "cell_type": "code",
   "execution_count": 19,
   "id": "e0813f2a",
   "metadata": {},
   "outputs": [
    {
     "name": "stdout",
     "output_type": "stream",
     "text": [
      "Epoch 1/20\n",
      "220/220 [==============================] - 11s 51ms/step - loss: 0.3910 - accuracy: 0.8002 - val_loss: 0.0161 - val_accuracy: 1.0000\n",
      "Epoch 2/20\n",
      "220/220 [==============================] - 10s 44ms/step - loss: 0.0909 - accuracy: 0.9717 - val_loss: 0.0056 - val_accuracy: 1.0000\n",
      "Epoch 3/20\n",
      "220/220 [==============================] - 10s 44ms/step - loss: 0.0419 - accuracy: 0.9872 - val_loss: 0.0012 - val_accuracy: 1.0000\n",
      "Epoch 4/20\n",
      "220/220 [==============================] - 10s 44ms/step - loss: 0.0296 - accuracy: 0.9936 - val_loss: 2.0261e-04 - val_accuracy: 1.0000\n",
      "Epoch 5/20\n",
      "220/220 [==============================] - 10s 44ms/step - loss: 0.0521 - accuracy: 0.9836 - val_loss: 0.0011 - val_accuracy: 1.0000\n",
      "Epoch 6/20\n",
      "220/220 [==============================] - 10s 44ms/step - loss: 0.0271 - accuracy: 0.9927 - val_loss: 0.0018 - val_accuracy: 1.0000\n",
      "Epoch 7/20\n",
      "220/220 [==============================] - 10s 44ms/step - loss: 0.0196 - accuracy: 0.9945 - val_loss: 4.0977e-05 - val_accuracy: 1.0000\n",
      "Epoch 8/20\n",
      "220/220 [==============================] - 10s 44ms/step - loss: 0.0211 - accuracy: 0.9954 - val_loss: 8.4524e-05 - val_accuracy: 1.0000\n",
      "Epoch 9/20\n",
      "220/220 [==============================] - 10s 45ms/step - loss: 0.0051 - accuracy: 1.0000 - val_loss: 7.7167e-05 - val_accuracy: 1.0000\n",
      "Epoch 10/20\n",
      "220/220 [==============================] - 10s 44ms/step - loss: 0.0210 - accuracy: 0.9936 - val_loss: 1.1978e-05 - val_accuracy: 1.0000\n",
      "Epoch 11/20\n",
      "220/220 [==============================] - 10s 45ms/step - loss: 0.0116 - accuracy: 0.9982 - val_loss: 8.1490e-04 - val_accuracy: 1.0000\n",
      "Epoch 12/20\n",
      "220/220 [==============================] - 10s 45ms/step - loss: 0.0044 - accuracy: 1.0000 - val_loss: 3.8024e-06 - val_accuracy: 1.0000\n",
      "Epoch 13/20\n",
      "220/220 [==============================] - 10s 45ms/step - loss: 0.0093 - accuracy: 0.9982 - val_loss: 6.9232e-05 - val_accuracy: 1.0000\n",
      "Epoch 14/20\n",
      "220/220 [==============================] - 10s 44ms/step - loss: 0.0217 - accuracy: 0.9927 - val_loss: 5.2798e-05 - val_accuracy: 1.0000\n",
      "Epoch 15/20\n",
      "220/220 [==============================] - 10s 45ms/step - loss: 0.0099 - accuracy: 0.9973 - val_loss: 1.6579e-05 - val_accuracy: 1.0000\n",
      "Epoch 16/20\n",
      "220/220 [==============================] - 10s 44ms/step - loss: 0.0168 - accuracy: 0.9936 - val_loss: 5.4906e-05 - val_accuracy: 1.0000\n",
      "Epoch 17/20\n",
      "220/220 [==============================] - 10s 44ms/step - loss: 0.0067 - accuracy: 0.9991 - val_loss: 4.2223e-06 - val_accuracy: 1.0000\n",
      "Epoch 18/20\n",
      "220/220 [==============================] - 10s 46ms/step - loss: 0.0146 - accuracy: 0.9973 - val_loss: 1.8041e-05 - val_accuracy: 1.0000\n",
      "Epoch 19/20\n",
      "220/220 [==============================] - 10s 46ms/step - loss: 0.0017 - accuracy: 1.0000 - val_loss: 1.7064e-06 - val_accuracy: 1.0000\n",
      "Epoch 20/20\n",
      "220/220 [==============================] - 10s 45ms/step - loss: 6.9122e-04 - accuracy: 1.0000 - val_loss: 5.3171e-07 - val_accuracy: 1.0000\n"
     ]
    }
   ],
   "source": [
    "history = model.fit_generator(\n",
    "       train_generator,\n",
    "       steps_per_epoch=steps_train,\n",
    "       epochs=20,\n",
    "       validation_data=validation_generator,\n",
    "       validation_steps=steps_validation )"
   ]
  },
  {
   "cell_type": "code",
   "execution_count": 28,
   "id": "976f71d5",
   "metadata": {},
   "outputs": [
    {
     "data": {
      "image/png": "[encoded data removed]",
      "text/plain": [
       "<Figure size 432x288 with 1 Axes>"
      ]
     },
     "metadata": {
      "needs_background": "light"
     },
     "output_type": "display_data"
    }
   ],
   "source": [
    "acc = history.history['accuracy']\n",
    "val_acc = history.history['val_accuracy']\n",
    "y_vloss = history.history['val_loss']\n",
    "y_loss = history.history['loss']\n",
    "\n",
    "x_len = np.arange(len(y_loss))\n",
    "plt.plot(x_len, acc, marker='.', c='cornflowerblue', label='Trainset_acc')\n",
    "plt.plot(x_len, val_acc, marker='.', c='blue', label='validationset_acc')\n",
    "plt.plot(x_len, y_vloss, marker='.', c='red', label='validationse_loss')\n",
    "plt.plot(x_len, y_loss, marker='.', c='lightcoral', label='Trainset_loss')\n",
    "\n",
    "plt.legend(loc='upper left')\n",
    "plt.grid()\n",
    "plt.xlabel('epoch')\n",
    "plt.ylabel('loss/acc')\n",
    "plt.show()"
   ]
  },
  {
   "cell_type": "code",
   "execution_count": 33,
   "id": "00b0761a",
   "metadata": {},
   "outputs": [
    {
     "ename": "UnicodeDecodeError",
     "evalue": "'utf-8' codec can't decode byte 0xbe in position 172: invalid start byte",
     "output_type": "error",
     "traceback": [
      "\u001b[1;31m---------------------------------------------------------------------------\u001b[0m",
      "\u001b[1;31m_FallbackException\u001b[0m                        Traceback (most recent call last)",
      "\u001b[1;32m~\\anaconda3\\envs\\project-env\\lib\\site-packages\\tensorflow_core\\python\\ops\\gen_io_ops.py\u001b[0m in \u001b[0;36mmerge_v2_checkpoints\u001b[1;34m(checkpoint_prefixes, destination_prefix, delete_old_dirs, name)\u001b[0m\n\u001b[0;32m    532\u001b[0m         \u001b[0mcheckpoint_prefixes\u001b[0m\u001b[1;33m,\u001b[0m \u001b[0mdestination_prefix\u001b[0m\u001b[1;33m,\u001b[0m \u001b[1;34m\"delete_old_dirs\"\u001b[0m\u001b[1;33m,\u001b[0m\u001b[1;33m\u001b[0m\u001b[0m\n\u001b[1;32m--> 533\u001b[1;33m         delete_old_dirs)\n\u001b[0m\u001b[0;32m    534\u001b[0m       \u001b[1;32mreturn\u001b[0m \u001b[0m_result\u001b[0m\u001b[1;33m\u001b[0m\u001b[0m\n",
      "\u001b[1;31m_FallbackException\u001b[0m: This function does not handle the case of the path where all inputs are not already EagerTensors.",
      "\nDuring handling of the above exception, another exception occurred:\n",
      "\u001b[1;31mUnicodeDecodeError\u001b[0m                        Traceback (most recent call last)",
      "\u001b[1;32m~\\AppData\\Local\\Temp/ipykernel_1592/53293727.py\u001b[0m in \u001b[0;36m<module>\u001b[1;34m\u001b[0m\n\u001b[1;32m----> 1\u001b[1;33m \u001b[0mmodel\u001b[0m\u001b[1;33m.\u001b[0m\u001b[0msave_weights\u001b[0m\u001b[1;33m(\u001b[0m\u001b[1;34m'weight/jinsu_weight.ckpt'\u001b[0m\u001b[1;33m)\u001b[0m\u001b[1;33m\u001b[0m\u001b[0m\n\u001b[0m",
      "\u001b[1;32m~\\anaconda3\\envs\\project-env\\lib\\site-packages\\tensorflow_core\\python\\keras\\engine\\network.py\u001b[0m in \u001b[0;36msave_weights\u001b[1;34m(self, filepath, overwrite, save_format)\u001b[0m\n\u001b[0;32m   1088\u001b[0m              'saved.\\n\\nConsider using a TensorFlow optimizer from `tf.train`.')\n\u001b[0;32m   1089\u001b[0m             % (optimizer,))\n\u001b[1;32m-> 1090\u001b[1;33m       \u001b[0mself\u001b[0m\u001b[1;33m.\u001b[0m\u001b[0m_trackable_saver\u001b[0m\u001b[1;33m.\u001b[0m\u001b[0msave\u001b[0m\u001b[1;33m(\u001b[0m\u001b[0mfilepath\u001b[0m\u001b[1;33m,\u001b[0m \u001b[0msession\u001b[0m\u001b[1;33m=\u001b[0m\u001b[0msession\u001b[0m\u001b[1;33m)\u001b[0m\u001b[1;33m\u001b[0m\u001b[0m\n\u001b[0m\u001b[0;32m   1091\u001b[0m       \u001b[1;31m# Record this checkpoint so it's visible from tf.train.latest_checkpoint.\u001b[0m\u001b[1;33m\u001b[0m\u001b[1;33m\u001b[0m\u001b[0m\n\u001b[0;32m   1092\u001b[0m       checkpoint_management.update_checkpoint_state_internal(\n",
      "\u001b[1;32m~\\anaconda3\\envs\\project-env\\lib\\site-packages\\tensorflow_core\\python\\training\\tracking\\util.py\u001b[0m in \u001b[0;36msave\u001b[1;34m(self, file_prefix, checkpoint_number, session)\u001b[0m\n\u001b[0;32m   1153\u001b[0m     \u001b[0mfile_io\u001b[0m\u001b[1;33m.\u001b[0m\u001b[0mrecursive_create_dir\u001b[0m\u001b[1;33m(\u001b[0m\u001b[0mos\u001b[0m\u001b[1;33m.\u001b[0m\u001b[0mpath\u001b[0m\u001b[1;33m.\u001b[0m\u001b[0mdirname\u001b[0m\u001b[1;33m(\u001b[0m\u001b[0mfile_prefix\u001b[0m\u001b[1;33m)\u001b[0m\u001b[1;33m)\u001b[0m\u001b[1;33m\u001b[0m\u001b[0m\n\u001b[0;32m   1154\u001b[0m     save_path, new_feed_additions = self._save_cached_when_graph_building(\n\u001b[1;32m-> 1155\u001b[1;33m         file_prefix=file_prefix_tensor, object_graph_tensor=object_graph_tensor)\n\u001b[0m\u001b[0;32m   1156\u001b[0m     \u001b[1;32mif\u001b[0m \u001b[0mnew_feed_additions\u001b[0m\u001b[1;33m:\u001b[0m\u001b[1;33m\u001b[0m\u001b[0m\n\u001b[0;32m   1157\u001b[0m       \u001b[0mfeed_dict\u001b[0m\u001b[1;33m.\u001b[0m\u001b[0mupdate\u001b[0m\u001b[1;33m(\u001b[0m\u001b[0mnew_feed_additions\u001b[0m\u001b[1;33m)\u001b[0m\u001b[1;33m\u001b[0m\u001b[0m\n",
      "\u001b[1;32m~\\anaconda3\\envs\\project-env\\lib\\site-packages\\tensorflow_core\\python\\training\\tracking\\util.py\u001b[0m in \u001b[0;36m_save_cached_when_graph_building\u001b[1;34m(self, file_prefix, object_graph_tensor)\u001b[0m\n\u001b[0;32m   1101\u001b[0m         or context.executing_eagerly() or ops.inside_function()):\n\u001b[0;32m   1102\u001b[0m       \u001b[0msaver\u001b[0m \u001b[1;33m=\u001b[0m \u001b[0mfunctional_saver\u001b[0m\u001b[1;33m.\u001b[0m\u001b[0mMultiDeviceSaver\u001b[0m\u001b[1;33m(\u001b[0m\u001b[0mnamed_saveable_objects\u001b[0m\u001b[1;33m)\u001b[0m\u001b[1;33m\u001b[0m\u001b[0m\n\u001b[1;32m-> 1103\u001b[1;33m       \u001b[0msave_op\u001b[0m \u001b[1;33m=\u001b[0m \u001b[0msaver\u001b[0m\u001b[1;33m.\u001b[0m\u001b[0msave\u001b[0m\u001b[1;33m(\u001b[0m\u001b[0mfile_prefix\u001b[0m\u001b[1;33m)\u001b[0m\u001b[1;33m\u001b[0m\u001b[0m\n\u001b[0m\u001b[0;32m   1104\u001b[0m       \u001b[1;32mwith\u001b[0m \u001b[0mops\u001b[0m\u001b[1;33m.\u001b[0m\u001b[0mdevice\u001b[0m\u001b[1;33m(\u001b[0m\u001b[1;34m\"/cpu:0\"\u001b[0m\u001b[1;33m)\u001b[0m\u001b[1;33m:\u001b[0m\u001b[1;33m\u001b[0m\u001b[0m\n\u001b[0;32m   1105\u001b[0m         \u001b[1;32mwith\u001b[0m \u001b[0mops\u001b[0m\u001b[1;33m.\u001b[0m\u001b[0mcontrol_dependencies\u001b[0m\u001b[1;33m(\u001b[0m\u001b[1;33m[\u001b[0m\u001b[0msave_op\u001b[0m\u001b[1;33m]\u001b[0m\u001b[1;33m)\u001b[0m\u001b[1;33m:\u001b[0m\u001b[1;33m\u001b[0m\u001b[0m\n",
      "\u001b[1;32m~\\anaconda3\\envs\\project-env\\lib\\site-packages\\tensorflow_core\\python\\training\\saving\\functional_saver.py\u001b[0m in \u001b[0;36msave\u001b[1;34m(self, file_prefix)\u001b[0m\n\u001b[0;32m    236\u001b[0m         \u001b[1;31m# attempts to delete the temporary directory, \"<user-fed prefix>_temp\".\u001b[0m\u001b[1;33m\u001b[0m\u001b[1;33m\u001b[0m\u001b[0m\n\u001b[0;32m    237\u001b[0m         return gen_io_ops.merge_v2_checkpoints(\n\u001b[1;32m--> 238\u001b[1;33m             sharded_prefixes, file_prefix, delete_old_dirs=True)\n\u001b[0m\u001b[0;32m    239\u001b[0m \u001b[1;33m\u001b[0m\u001b[0m\n\u001b[0;32m    240\u001b[0m   \u001b[1;32mdef\u001b[0m \u001b[0mrestore\u001b[0m\u001b[1;33m(\u001b[0m\u001b[0mself\u001b[0m\u001b[1;33m,\u001b[0m \u001b[0mfile_prefix\u001b[0m\u001b[1;33m)\u001b[0m\u001b[1;33m:\u001b[0m\u001b[1;33m\u001b[0m\u001b[0m\n",
      "\u001b[1;32m~\\anaconda3\\envs\\project-env\\lib\\site-packages\\tensorflow_core\\python\\ops\\gen_io_ops.py\u001b[0m in \u001b[0;36mmerge_v2_checkpoints\u001b[1;34m(checkpoint_prefixes, destination_prefix, delete_old_dirs, name)\u001b[0m\n\u001b[0;32m    537\u001b[0m         return merge_v2_checkpoints_eager_fallback(\n\u001b[0;32m    538\u001b[0m             \u001b[0mcheckpoint_prefixes\u001b[0m\u001b[1;33m,\u001b[0m \u001b[0mdestination_prefix\u001b[0m\u001b[1;33m,\u001b[0m\u001b[1;33m\u001b[0m\u001b[0m\n\u001b[1;32m--> 539\u001b[1;33m             delete_old_dirs=delete_old_dirs, name=name, ctx=_ctx)\n\u001b[0m\u001b[0;32m    540\u001b[0m       \u001b[1;32mexcept\u001b[0m \u001b[0m_core\u001b[0m\u001b[1;33m.\u001b[0m\u001b[0m_SymbolicException\u001b[0m\u001b[1;33m:\u001b[0m\u001b[1;33m\u001b[0m\u001b[0m\n\u001b[0;32m    541\u001b[0m         \u001b[1;32mpass\u001b[0m  \u001b[1;31m# Add nodes to the TensorFlow graph.\u001b[0m\u001b[1;33m\u001b[0m\u001b[0m\n",
      "\u001b[1;32m~\\anaconda3\\envs\\project-env\\lib\\site-packages\\tensorflow_core\\python\\ops\\gen_io_ops.py\u001b[0m in \u001b[0;36mmerge_v2_checkpoints_eager_fallback\u001b[1;34m(checkpoint_prefixes, destination_prefix, delete_old_dirs, name, ctx)\u001b[0m\n\u001b[0;32m    578\u001b[0m   \u001b[0m_attrs\u001b[0m \u001b[1;33m=\u001b[0m \u001b[1;33m(\u001b[0m\u001b[1;34m\"delete_old_dirs\"\u001b[0m\u001b[1;33m,\u001b[0m \u001b[0mdelete_old_dirs\u001b[0m\u001b[1;33m)\u001b[0m\u001b[1;33m\u001b[0m\u001b[0m\n\u001b[0;32m    579\u001b[0m   _result = _execute.execute(b\"MergeV2Checkpoints\", 0, inputs=_inputs_flat,\n\u001b[1;32m--> 580\u001b[1;33m                              attrs=_attrs, ctx=_ctx, name=name)\n\u001b[0m\u001b[0;32m    581\u001b[0m   \u001b[0m_result\u001b[0m \u001b[1;33m=\u001b[0m \u001b[1;32mNone\u001b[0m\u001b[1;33m\u001b[0m\u001b[0m\n\u001b[0;32m    582\u001b[0m   \u001b[1;32mreturn\u001b[0m \u001b[0m_result\u001b[0m\u001b[1;33m\u001b[0m\u001b[0m\n",
      "\u001b[1;32m~\\anaconda3\\envs\\project-env\\lib\\site-packages\\tensorflow_core\\python\\eager\\execute.py\u001b[0m in \u001b[0;36mquick_execute\u001b[1;34m(op_name, num_outputs, inputs, attrs, ctx, name)\u001b[0m\n\u001b[0;32m     59\u001b[0m     tensors = pywrap_tensorflow.TFE_Py_Execute(ctx._handle, device_name,\n\u001b[0;32m     60\u001b[0m                                                \u001b[0mop_name\u001b[0m\u001b[1;33m,\u001b[0m \u001b[0minputs\u001b[0m\u001b[1;33m,\u001b[0m \u001b[0mattrs\u001b[0m\u001b[1;33m,\u001b[0m\u001b[1;33m\u001b[0m\u001b[0m\n\u001b[1;32m---> 61\u001b[1;33m                                                num_outputs)\n\u001b[0m\u001b[0;32m     62\u001b[0m   \u001b[1;32mexcept\u001b[0m \u001b[0mcore\u001b[0m\u001b[1;33m.\u001b[0m\u001b[0m_NotOkStatusException\u001b[0m \u001b[1;32mas\u001b[0m \u001b[0me\u001b[0m\u001b[1;33m:\u001b[0m\u001b[1;33m\u001b[0m\u001b[0m\n\u001b[0;32m     63\u001b[0m     \u001b[1;32mif\u001b[0m \u001b[0mname\u001b[0m \u001b[1;32mis\u001b[0m \u001b[1;32mnot\u001b[0m \u001b[1;32mNone\u001b[0m\u001b[1;33m:\u001b[0m\u001b[1;33m\u001b[0m\u001b[0m\n",
      "\u001b[1;31mUnicodeDecodeError\u001b[0m: 'utf-8' codec can't decode byte 0xbe in position 172: invalid start byte"
     ]
    }
   ],
   "source": [
    "\n",
    "model.save_weights('weight/jinsu_weight.ckpt')\n"
   ]
  },
  {
   "cell_type": "code",
   "execution_count": 22,
   "id": "90eb8db6",
   "metadata": {},
   "outputs": [],
   "source": [
    "# model.save('model/jinsu_model')"
   ]
  },
  {
   "cell_type": "code",
   "execution_count": 30,
   "id": "940b937a",
   "metadata": {},
   "outputs": [
    {
     "data": {
      "text/plain": [
       "{'castle': 0, 'general': 1}"
      ]
     },
     "execution_count": 30,
     "metadata": {},
     "output_type": "execute_result"
    }
   ],
   "source": [
    "output = model.predict(test_generator, steps=setps_test)\n",
    "test_generator.class_indices\n",
    "\n"
   ]
  },
  {
   "cell_type": "code",
   "execution_count": 31,
   "id": "0accad31",
   "metadata": {},
   "outputs": [
    {
     "data": {
      "text/plain": [
       "array([[2.10961539e-15, 1.00000000e+00],\n",
       "       [2.35630634e-12, 1.00000000e+00],\n",
       "       [1.00000000e+00, 5.39899410e-11],\n",
       "       [2.16354833e-11, 1.00000000e+00],\n",
       "       [1.00000000e+00, 4.24911717e-10],\n",
       "       [1.00000000e+00, 3.70562447e-09],\n",
       "       [1.00000000e+00, 1.19856258e-09],\n",
       "       [5.55717234e-12, 1.00000000e+00],\n",
       "       [1.50730532e-16, 1.00000000e+00],\n",
       "       [2.68957104e-19, 1.00000000e+00],\n",
       "       [1.00000000e+00, 5.51522550e-10],\n",
       "       [9.99996185e-01, 3.75544823e-06],\n",
       "       [1.85414648e-14, 1.00000000e+00],\n",
       "       [9.99998689e-01, 1.33716230e-06],\n",
       "       [1.00000000e+00, 2.11766663e-11],\n",
       "       [1.00000000e+00, 6.85901544e-11],\n",
       "       [5.59872262e-07, 9.99999404e-01],\n",
       "       [1.20440604e-13, 1.00000000e+00],\n",
       "       [1.00000000e+00, 4.78017903e-11],\n",
       "       [3.24507782e-11, 1.00000000e+00],\n",
       "       [3.29842577e-11, 1.00000000e+00],\n",
       "       [2.27693163e-14, 1.00000000e+00],\n",
       "       [7.74540501e-12, 1.00000000e+00],\n",
       "       [2.66920315e-17, 1.00000000e+00],\n",
       "       [7.62881024e-13, 1.00000000e+00],\n",
       "       [1.00000000e+00, 3.33543225e-13],\n",
       "       [4.97837752e-12, 1.00000000e+00],\n",
       "       [1.00000000e+00, 1.91461148e-12],\n",
       "       [1.00000000e+00, 5.30141415e-13],\n",
       "       [1.00000000e+00, 1.58580805e-11],\n",
       "       [1.00000000e+00, 2.70009574e-13],\n",
       "       [1.00000000e+00, 5.23463868e-12],\n",
       "       [9.99999046e-01, 9.67579922e-07],\n",
       "       [2.61758751e-16, 1.00000000e+00],\n",
       "       [9.27561454e-14, 1.00000000e+00],\n",
       "       [1.00000000e+00, 9.06097408e-13],\n",
       "       [1.00000000e+00, 3.93420230e-09],\n",
       "       [1.46261822e-11, 1.00000000e+00],\n",
       "       [1.00000000e+00, 2.12194103e-14],\n",
       "       [1.45094609e-14, 1.00000000e+00],\n",
       "       [1.00000000e+00, 1.50355206e-13],\n",
       "       [1.00000000e+00, 2.55848814e-12],\n",
       "       [1.41371154e-14, 1.00000000e+00],\n",
       "       [6.94070523e-10, 1.00000000e+00],\n",
       "       [9.99997616e-01, 2.33831452e-06],\n",
       "       [1.00000000e+00, 3.90239490e-13],\n",
       "       [2.32872203e-19, 1.00000000e+00],\n",
       "       [3.87492027e-14, 1.00000000e+00],\n",
       "       [1.00000000e+00, 3.20130658e-11],\n",
       "       [9.99999404e-01, 5.55986503e-07],\n",
       "       [1.00000000e+00, 2.48088239e-09],\n",
       "       [4.06386703e-13, 1.00000000e+00],\n",
       "       [1.59505774e-14, 1.00000000e+00],\n",
       "       [3.22507022e-13, 1.00000000e+00],\n",
       "       [4.59287719e-13, 1.00000000e+00],\n",
       "       [2.33517277e-14, 1.00000000e+00],\n",
       "       [1.90112574e-12, 1.00000000e+00],\n",
       "       [4.41858608e-17, 1.00000000e+00],\n",
       "       [1.07169818e-07, 9.99999881e-01],\n",
       "       [9.99999285e-01, 6.82433893e-07],\n",
       "       [1.00000000e+00, 2.84551191e-13],\n",
       "       [2.89861746e-11, 1.00000000e+00],\n",
       "       [9.99999285e-01, 6.86765134e-07],\n",
       "       [1.00000000e+00, 8.27249449e-11],\n",
       "       [9.99999404e-01, 6.07917116e-07],\n",
       "       [1.56093645e-11, 1.00000000e+00],\n",
       "       [1.00000000e+00, 2.62615407e-12],\n",
       "       [4.14110986e-14, 1.00000000e+00],\n",
       "       [2.33975932e-15, 1.00000000e+00],\n",
       "       [1.73219674e-12, 1.00000000e+00],\n",
       "       [5.71480742e-16, 1.00000000e+00],\n",
       "       [8.24962657e-16, 1.00000000e+00],\n",
       "       [1.04956378e-14, 1.00000000e+00],\n",
       "       [1.32058003e-10, 1.00000000e+00],\n",
       "       [1.00000000e+00, 1.34602832e-13],\n",
       "       [2.71895756e-10, 1.00000000e+00],\n",
       "       [1.51241224e-11, 1.00000000e+00],\n",
       "       [1.17594519e-13, 1.00000000e+00],\n",
       "       [3.41261025e-16, 1.00000000e+00],\n",
       "       [2.78815144e-12, 1.00000000e+00],\n",
       "       [9.99999523e-01, 4.19348254e-07],\n",
       "       [1.00000000e+00, 3.71759339e-14],\n",
       "       [1.00000000e+00, 3.47425945e-13],\n",
       "       [9.99990106e-01, 9.85408587e-06],\n",
       "       [9.99998927e-01, 1.01855267e-06],\n",
       "       [3.70379217e-14, 1.00000000e+00],\n",
       "       [1.00000000e+00, 8.94539109e-09],\n",
       "       [1.00000000e+00, 2.88170062e-14],\n",
       "       [1.00000000e+00, 7.81107889e-09],\n",
       "       [1.00000000e+00, 1.04668552e-13],\n",
       "       [2.76009450e-18, 1.00000000e+00],\n",
       "       [2.18701048e-15, 1.00000000e+00],\n",
       "       [3.60070893e-17, 1.00000000e+00],\n",
       "       [9.99999881e-01, 1.48311287e-07],\n",
       "       [3.40218131e-11, 1.00000000e+00],\n",
       "       [9.99999642e-01, 3.76787170e-07],\n",
       "       [9.99994278e-01, 5.71657483e-06],\n",
       "       [1.00000000e+00, 4.31379628e-12],\n",
       "       [2.27424161e-17, 1.00000000e+00],\n",
       "       [9.99998450e-01, 1.56060310e-06],\n",
       "       [1.47531442e-13, 1.00000000e+00],\n",
       "       [1.66028852e-13, 1.00000000e+00],\n",
       "       [6.77453926e-12, 1.00000000e+00],\n",
       "       [1.58383235e-13, 1.00000000e+00],\n",
       "       [5.17363617e-11, 1.00000000e+00],\n",
       "       [1.00000000e+00, 3.17107148e-12],\n",
       "       [5.45013291e-16, 1.00000000e+00],\n",
       "       [2.11155691e-14, 1.00000000e+00],\n",
       "       [1.00000000e+00, 4.04840023e-10],\n",
       "       [2.12670863e-19, 1.00000000e+00],\n",
       "       [9.99991536e-01, 8.43214639e-06],\n",
       "       [3.71308403e-07, 9.99999642e-01],\n",
       "       [1.00000000e+00, 4.82572207e-13],\n",
       "       [1.89103101e-13, 1.00000000e+00],\n",
       "       [1.20816494e-14, 1.00000000e+00],\n",
       "       [1.00000000e+00, 8.06192266e-12],\n",
       "       [1.72654209e-13, 1.00000000e+00],\n",
       "       [1.00000000e+00, 5.55373933e-12],\n",
       "       [3.03387893e-08, 1.00000000e+00],\n",
       "       [1.00000000e+00, 9.24941479e-14],\n",
       "       [1.00000000e+00, 1.85912136e-11],\n",
       "       [1.00000000e+00, 1.31977234e-13],\n",
       "       [1.00000000e+00, 1.04999098e-09],\n",
       "       [9.99997258e-01, 2.71014346e-06],\n",
       "       [9.99999166e-01, 8.57083648e-07],\n",
       "       [2.68268459e-12, 1.00000000e+00],\n",
       "       [1.00000000e+00, 2.26036139e-12],\n",
       "       [1.00000000e+00, 6.72558323e-14],\n",
       "       [1.00000000e+00, 2.59129593e-11],\n",
       "       [8.59414451e-15, 1.00000000e+00],\n",
       "       [5.58074169e-16, 1.00000000e+00],\n",
       "       [7.61116593e-13, 1.00000000e+00],\n",
       "       [1.00000000e+00, 5.62576608e-09],\n",
       "       [7.33135514e-12, 1.00000000e+00],\n",
       "       [1.12710232e-11, 1.00000000e+00],\n",
       "       [1.00000000e+00, 2.24386956e-13],\n",
       "       [1.45776869e-12, 1.00000000e+00],\n",
       "       [1.00000000e+00, 1.74754728e-13],\n",
       "       [1.00000000e+00, 7.37571151e-14],\n",
       "       [9.99999523e-01, 4.28502545e-07],\n",
       "       [3.21325236e-12, 1.00000000e+00],\n",
       "       [3.73647988e-11, 1.00000000e+00],\n",
       "       [6.40274400e-13, 1.00000000e+00],\n",
       "       [1.00000000e+00, 5.37788130e-12],\n",
       "       [1.57182930e-11, 1.00000000e+00],\n",
       "       [1.00000000e+00, 3.90120418e-13],\n",
       "       [1.00000000e+00, 9.91324356e-10],\n",
       "       [9.99999881e-01, 1.36291490e-07],\n",
       "       [6.74391432e-10, 1.00000000e+00],\n",
       "       [9.99999762e-01, 2.25351982e-07],\n",
       "       [1.35845623e-11, 1.00000000e+00],\n",
       "       [1.85152449e-10, 1.00000000e+00],\n",
       "       [1.00000000e+00, 5.05924296e-13],\n",
       "       [1.00000000e+00, 3.63795771e-10],\n",
       "       [9.99996901e-01, 3.09810980e-06],\n",
       "       [1.00000000e+00, 3.51434004e-14],\n",
       "       [9.99997854e-01, 2.20515267e-06],\n",
       "       [1.00000000e+00, 9.11272793e-13],\n",
       "       [1.99851088e-14, 1.00000000e+00],\n",
       "       [9.99995470e-01, 4.50636708e-06],\n",
       "       [1.00000000e+00, 6.93009261e-11],\n",
       "       [1.00000000e+00, 3.35071028e-13],\n",
       "       [2.49442258e-14, 1.00000000e+00],\n",
       "       [1.00000000e+00, 1.42170298e-09],\n",
       "       [6.54396532e-16, 1.00000000e+00],\n",
       "       [7.54268860e-18, 1.00000000e+00],\n",
       "       [2.42403177e-17, 1.00000000e+00],\n",
       "       [5.19433563e-13, 1.00000000e+00],\n",
       "       [1.00000000e+00, 2.97093215e-13],\n",
       "       [9.99999523e-01, 4.57886301e-07],\n",
       "       [9.99995112e-01, 4.94268943e-06],\n",
       "       [1.04586001e-12, 1.00000000e+00],\n",
       "       [2.02598321e-14, 1.00000000e+00],\n",
       "       [1.00000000e+00, 2.92842556e-11],\n",
       "       [3.51062983e-13, 1.00000000e+00],\n",
       "       [1.00000000e+00, 7.58073031e-12],\n",
       "       [1.00000000e+00, 1.25308184e-13],\n",
       "       [1.82950161e-12, 1.00000000e+00],\n",
       "       [1.00000000e+00, 2.05576265e-13],\n",
       "       [1.30725254e-14, 1.00000000e+00],\n",
       "       [2.01243318e-15, 1.00000000e+00],\n",
       "       [2.66928125e-12, 1.00000000e+00],\n",
       "       [9.99999285e-01, 6.67457471e-07],\n",
       "       [3.49615996e-11, 1.00000000e+00],\n",
       "       [3.31510481e-13, 1.00000000e+00],\n",
       "       [7.01067785e-13, 1.00000000e+00],\n",
       "       [2.04296427e-10, 1.00000000e+00],\n",
       "       [2.96768819e-16, 1.00000000e+00],\n",
       "       [9.99995947e-01, 4.08601591e-06],\n",
       "       [1.25092436e-11, 1.00000000e+00],\n",
       "       [3.46673319e-13, 1.00000000e+00],\n",
       "       [1.60541983e-14, 1.00000000e+00],\n",
       "       [1.00000000e+00, 6.19681918e-14],\n",
       "       [7.72009799e-15, 1.00000000e+00],\n",
       "       [1.00000000e+00, 6.31757446e-09],\n",
       "       [1.00000000e+00, 1.41893756e-12],\n",
       "       [7.36857936e-11, 1.00000000e+00],\n",
       "       [9.99996185e-01, 3.82826147e-06],\n",
       "       [1.58214997e-14, 1.00000000e+00],\n",
       "       [1.00000000e+00, 6.00124880e-11],\n",
       "       [1.00000000e+00, 5.58033491e-13],\n",
       "       [5.82761975e-13, 1.00000000e+00],\n",
       "       [9.99999642e-01, 3.80717410e-07],\n",
       "       [9.99489476e-15, 1.00000000e+00],\n",
       "       [9.99998450e-01, 1.53734766e-06],\n",
       "       [1.06960807e-13, 1.00000000e+00],\n",
       "       [1.00000000e+00, 4.00949329e-10],\n",
       "       [1.87984034e-16, 1.00000000e+00],\n",
       "       [1.00000000e+00, 2.33548372e-11],\n",
       "       [1.00000000e+00, 1.28128369e-10],\n",
       "       [4.90981420e-15, 1.00000000e+00],\n",
       "       [1.63263525e-09, 1.00000000e+00],\n",
       "       [1.00000000e+00, 6.46974141e-11],\n",
       "       [5.59712378e-13, 1.00000000e+00],\n",
       "       [1.00000000e+00, 2.48482936e-11],\n",
       "       [1.00000000e+00, 2.81146135e-12],\n",
       "       [5.26034164e-12, 1.00000000e+00],\n",
       "       [9.65212475e-14, 1.00000000e+00],\n",
       "       [1.00000000e+00, 3.20578529e-11],\n",
       "       [1.00000000e+00, 1.68615625e-11],\n",
       "       [1.87790380e-10, 1.00000000e+00],\n",
       "       [3.82888504e-14, 1.00000000e+00],\n",
       "       [1.32340785e-12, 1.00000000e+00],\n",
       "       [1.00000000e+00, 1.83951673e-11],\n",
       "       [2.76466285e-14, 1.00000000e+00],\n",
       "       [8.20611558e-18, 1.00000000e+00],\n",
       "       [1.00000000e+00, 4.85711596e-14],\n",
       "       [9.40971042e-13, 1.00000000e+00],\n",
       "       [2.54232468e-11, 1.00000000e+00],\n",
       "       [1.07739906e-09, 1.00000000e+00],\n",
       "       [1.35154637e-17, 1.00000000e+00],\n",
       "       [4.39486364e-11, 1.00000000e+00],\n",
       "       [1.00000000e+00, 1.74780736e-13],\n",
       "       [1.00000000e+00, 7.54530605e-11],\n",
       "       [8.13249411e-14, 1.00000000e+00],\n",
       "       [9.99997497e-01, 2.47442472e-06],\n",
       "       [1.00000000e+00, 9.24666363e-14],\n",
       "       [1.00000000e+00, 8.29737168e-10],\n",
       "       [1.00000000e+00, 8.75237882e-10],\n",
       "       [9.99998927e-01, 1.07827941e-06],\n",
       "       [5.15064515e-15, 1.00000000e+00],\n",
       "       [1.00000000e+00, 6.69073358e-13],\n",
       "       [1.00000000e+00, 1.58319746e-10],\n",
       "       [4.57421813e-14, 1.00000000e+00],\n",
       "       [2.81037519e-14, 1.00000000e+00],\n",
       "       [1.00000000e+00, 6.37919106e-10],\n",
       "       [1.00000000e+00, 1.80860711e-13],\n",
       "       [4.53710040e-13, 1.00000000e+00],\n",
       "       [1.00000000e+00, 6.08290307e-09],\n",
       "       [1.62155758e-11, 1.00000000e+00],\n",
       "       [3.69000463e-19, 1.00000000e+00],\n",
       "       [1.80446444e-14, 1.00000000e+00],\n",
       "       [1.00000000e+00, 4.60868188e-09],\n",
       "       [2.67753785e-15, 1.00000000e+00],\n",
       "       [8.47544132e-15, 1.00000000e+00],\n",
       "       [1.83373238e-12, 1.00000000e+00],\n",
       "       [2.62030155e-11, 1.00000000e+00],\n",
       "       [1.00000000e+00, 3.39161407e-11],\n",
       "       [1.16939404e-13, 1.00000000e+00],\n",
       "       [1.10129792e-14, 1.00000000e+00],\n",
       "       [1.00000000e+00, 1.04292130e-09],\n",
       "       [9.99998450e-01, 1.60198283e-06],\n",
       "       [4.19574340e-15, 1.00000000e+00],\n",
       "       [1.95456679e-10, 1.00000000e+00],\n",
       "       [3.33361672e-11, 1.00000000e+00],\n",
       "       [1.00000000e+00, 4.39511231e-12],\n",
       "       [9.99999046e-01, 9.00396003e-07],\n",
       "       [1.00000000e+00, 6.29419206e-13],\n",
       "       [5.33711638e-13, 1.00000000e+00],\n",
       "       [5.98677141e-12, 1.00000000e+00],\n",
       "       [1.00000000e+00, 7.55707302e-11],\n",
       "       [1.00000000e+00, 2.71094388e-12],\n",
       "       [1.16461615e-11, 1.00000000e+00],\n",
       "       [1.00000000e+00, 2.94347077e-12],\n",
       "       [9.99999762e-01, 2.16524271e-07],\n",
       "       [9.42482464e-15, 1.00000000e+00],\n",
       "       [2.07201660e-13, 1.00000000e+00],\n",
       "       [1.57786159e-10, 1.00000000e+00],\n",
       "       [1.00000000e+00, 9.91952742e-09],\n",
       "       [1.42480418e-15, 1.00000000e+00],\n",
       "       [1.00000000e+00, 8.08526770e-12],\n",
       "       [6.80982167e-14, 1.00000000e+00],\n",
       "       [4.76156713e-16, 1.00000000e+00],\n",
       "       [1.00000000e+00, 3.46819470e-13],\n",
       "       [1.00000000e+00, 6.98010096e-12],\n",
       "       [9.99995351e-01, 4.67579548e-06],\n",
       "       [1.00000000e+00, 5.12916098e-13],\n",
       "       [1.55418345e-19, 1.00000000e+00],\n",
       "       [9.99999285e-01, 6.84156873e-07],\n",
       "       [9.99999166e-01, 8.12070482e-07],\n",
       "       [4.76058616e-16, 1.00000000e+00],\n",
       "       [9.99999404e-01, 5.57573628e-07],\n",
       "       [1.00000000e+00, 1.04983866e-13],\n",
       "       [5.78808945e-11, 1.00000000e+00],\n",
       "       [1.00000000e+00, 4.48093146e-10],\n",
       "       [1.00000000e+00, 1.18520332e-11],\n",
       "       [9.99998808e-01, 1.17303580e-06],\n",
       "       [1.00000000e+00, 4.22179980e-08],\n",
       "       [1.00000000e+00, 1.41996172e-11],\n",
       "       [1.00000000e+00, 1.01736192e-13],\n",
       "       [1.55169350e-10, 1.00000000e+00],\n",
       "       [1.00000000e+00, 1.12075262e-11],\n",
       "       [9.99999404e-01, 6.41165684e-07],\n",
       "       [9.99998093e-01, 1.85404099e-06],\n",
       "       [9.99999404e-01, 5.37640403e-07],\n",
       "       [9.99996662e-01, 3.35490290e-06],\n",
       "       [9.99995947e-01, 4.04238153e-06],\n",
       "       [1.00000000e+00, 1.13947123e-10],\n",
       "       [9.99997020e-01, 3.03233992e-06],\n",
       "       [1.33129799e-10, 1.00000000e+00],\n",
       "       [9.99998450e-01, 1.53231247e-06],\n",
       "       [1.00000000e+00, 5.02662183e-11],\n",
       "       [9.99996185e-01, 3.80607753e-06],\n",
       "       [1.00000000e+00, 5.49348567e-09],\n",
       "       [1.75386845e-13, 1.00000000e+00],\n",
       "       [9.99999881e-01, 7.63686572e-08],\n",
       "       [1.00000000e+00, 1.81446302e-10],\n",
       "       [4.61357543e-15, 1.00000000e+00],\n",
       "       [7.80285558e-10, 1.00000000e+00],\n",
       "       [1.00000000e+00, 2.32313717e-11],\n",
       "       [4.30494399e-12, 1.00000000e+00],\n",
       "       [1.00000000e+00, 5.50631971e-11],\n",
       "       [1.96992379e-13, 1.00000000e+00],\n",
       "       [2.34365512e-14, 1.00000000e+00],\n",
       "       [8.59925375e-09, 1.00000000e+00],\n",
       "       [2.25494536e-11, 1.00000000e+00],\n",
       "       [1.00000000e+00, 1.56672592e-11],\n",
       "       [2.93678797e-11, 1.00000000e+00],\n",
       "       [1.00000000e+00, 1.19538157e-10],\n",
       "       [1.01927261e-14, 1.00000000e+00],\n",
       "       [1.00000000e+00, 1.47039640e-12],\n",
       "       [9.99999642e-01, 3.25361782e-07],\n",
       "       [9.99997854e-01, 2.10482563e-06],\n",
       "       [9.99999523e-01, 5.31306398e-07],\n",
       "       [8.18061036e-11, 1.00000000e+00],\n",
       "       [8.64282641e-17, 1.00000000e+00],\n",
       "       [1.38859405e-17, 1.00000000e+00],\n",
       "       [1.60279559e-13, 1.00000000e+00],\n",
       "       [9.84459021e-08, 9.99999881e-01],\n",
       "       [1.00000000e+00, 4.38472799e-13],\n",
       "       [3.28844872e-12, 1.00000000e+00],\n",
       "       [1.00000000e+00, 3.18874227e-14],\n",
       "       [2.75362597e-11, 1.00000000e+00],\n",
       "       [1.00000000e+00, 2.32393721e-13],\n",
       "       [7.71762053e-16, 1.00000000e+00],\n",
       "       [7.22331179e-12, 1.00000000e+00],\n",
       "       [1.00000000e+00, 3.07193888e-11],\n",
       "       [1.22704052e-11, 1.00000000e+00],\n",
       "       [9.99997973e-01, 2.03155969e-06],\n",
       "       [1.00000000e+00, 6.94361443e-11],\n",
       "       [3.85635144e-12, 1.00000000e+00],\n",
       "       [1.00000000e+00, 1.37400273e-11],\n",
       "       [1.00000000e+00, 1.96235972e-13],\n",
       "       [1.74907727e-10, 1.00000000e+00],\n",
       "       [1.00000000e+00, 2.11205879e-08],\n",
       "       [1.00761676e-14, 1.00000000e+00],\n",
       "       [1.17352734e-17, 1.00000000e+00],\n",
       "       [2.17783707e-14, 1.00000000e+00],\n",
       "       [2.20662959e-14, 1.00000000e+00],\n",
       "       [2.71547871e-11, 1.00000000e+00],\n",
       "       [2.40668943e-11, 1.00000000e+00],\n",
       "       [9.26334079e-11, 1.00000000e+00],\n",
       "       [1.00000000e+00, 4.39533493e-10],\n",
       "       [1.00000000e+00, 1.61670959e-14],\n",
       "       [9.99997735e-01, 2.28496242e-06],\n",
       "       [7.35124513e-14, 1.00000000e+00]], dtype=float32)"
      ]
     },
     "execution_count": 31,
     "metadata": {},
     "output_type": "execute_result"
    }
   ],
   "source": [
    "output"
   ]
  },
  {
   "cell_type": "code",
   "execution_count": 32,
   "id": "f208f1e9",
   "metadata": {},
   "outputs": [
    {
     "name": "stdout",
     "output_type": "stream",
     "text": [
      "74/74 [==============================] - 1s 10ms/step - loss: 2.9867e-07 - accuracy: 1.0000\n"
     ]
    },
    {
     "data": {
      "text/plain": [
       "1.0"
      ]
     },
     "execution_count": 32,
     "metadata": {},
     "output_type": "execute_result"
    }
   ],
   "source": [
    "loss, acc = model.evaluate(test_generator)\n",
    "acc"
   ]
  },
  {
   "cell_type": "code",
   "execution_count": 26,
   "id": "ed3de246",
   "metadata": {},
   "outputs": [],
   "source": [
    "# caltech_dir = \"D:/deeplearning/mini_test\"\n",
    "# image_w = 300\n",
    "# image_h = 300\n",
    "# pixels = image_h * image_w * 3\n",
    "# X = []\n",
    "# filenames = []\n",
    "# files = glob.glob(caltech_dir+\"/*.*\")\n",
    "# for i, f in enumerate(files):\n",
    "#     img = Image.open(f)\n",
    "#     img = img.convert(\"RGB\")\n",
    "#     img = img.resize((image_w, image_h))\n",
    "#     data = np.asarray(img)\n",
    "#     filenames.append(f)\n",
    "#     X.append(data)\n",
    "# X = np.array(X)\n"
   ]
  },
  {
   "cell_type": "code",
   "execution_count": 27,
   "id": "ac0fb7a0",
   "metadata": {},
   "outputs": [],
   "source": [
    "# model = load_model('./model_sample.h5')\n",
    "# prediction = model.predict(X)\n",
    "# np.set_printoptions(formatter={'float': lambda x: \"{0:0.3f}\".format(x)})\n",
    "# cnt = 0\n",
    "# #이 비교는 그냥 파일들이 있으면 해당 파일과 비교. 카테고리와 함께 비교해서 진행하는 것은 _4 파일.\n",
    "# for i in prediction:\n",
    "#     pre_ans = i.argmax()  # 예측 레이블\n",
    "#     print(i)\n",
    "#     print(pre_ans)\n",
    "#     pre_ans_str = ''\n",
    "#     if pre_ans == 0: pre_ans_str = \"Geunjeongjeon_Hall\"\n",
    "#     elif pre_ans == 1: pre_ans_str = \"Gyeonghoeru\"\n",
    "#     else: pre_ans_str = \"없음\"\n",
    "#     if i[0] >= 0.8 : print(\"해당 \"+filenames[cnt].split(\"\\\\\")[1]+\"이미지는 \"+pre_ans_str+\"로 추정됩니다.\")\n",
    "#     if i[1] >= 0.8: print(\"해당 \"+filenames[cnt].split(\"\\\\\")[1]+\"이미지는 \"+pre_ans_str+\"으로 추정됩니다.\")\n",
    "#     cnt += 1\n",
    "#     # print(i.argmax()) #얘가 레이블 [1. 0. 0.] 이런식으로 되어 있는 것을 숫자로 바꿔주는 것.\n",
    "#     # 즉 얘랑, 나중에 카테고리 데이터 불러와서 카테고리랑 비교를 해서 같으면 맞는거고, 아니면 틀린거로 취급하면 된다.\n",
    "#     # 이걸 한 것은 _4.py에."
   ]
  }
 ],
 "metadata": {
  "kernelspec": {
   "display_name": "Python 3 (ipykernel)",
   "language": "python",
   "name": "python3"
  },
  "language_info": {
   "codemirror_mode": {
    "name": "ipython",
    "version": 3
   },
   "file_extension": ".py",
   "mimetype": "text/x-python",
   "name": "python",
   "nbconvert_exporter": "python",
   "pygments_lexer": "ipython3",
   "version": "3.7.0"
  }
 },
 "nbformat": 4,
 "nbformat_minor": 5
}
